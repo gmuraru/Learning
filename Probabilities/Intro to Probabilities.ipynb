{
 "cells": [
  {
   "cell_type": "markdown",
   "metadata": {},
   "source": [
    "## What is a probability?"
   ]
  },
  {
   "cell_type": "markdown",
   "metadata": {},
   "source": [
    "The **probability** of one **event** to happen is a number between **0** and **1**.\n",
    "The usual notation for it is **P**, where **P(X)** means the probability of event **X** to occur and **P($\\neg$X)** means the probability of event **X** to not occur.\n",
    "\n",
    "**P(X)** and **P($\\neg$X)** are complementary which means that **P(X) + P($\\neg$X) == 1** or **P(X) = 1 - P($\\neg$X)**. What means this? It means that the probability to **have event X or not have event X** is 1\n",
    "\n",
    "A probability of **0** means that the event is **impossible** to occur, it is a **zero-probability** event or an **almost never** event.\n",
    "A probability of **1** means that the event is going to occur, it is a **almost sure** event."
   ]
  },
  {
   "cell_type": "markdown",
   "metadata": {},
   "source": []
  },
  {
   "cell_type": "code",
   "execution_count": 39,
   "metadata": {},
   "outputs": [],
   "source": [
    "import random # used to generate random numbers"
   ]
  },
  {
   "cell_type": "markdown",
   "metadata": {},
   "source": [
    "Sampling more times, the probability distribution becomes more and more accurate"
   ]
  },
  {
   "cell_type": "code",
   "execution_count": 40,
   "metadata": {},
   "outputs": [],
   "source": [
    "def get_toss():\n",
    "    if random.randint(0, 1) == 0:\n",
    "        return \"T\"\n",
    "    return \"H\"\n",
    "\n",
    "if __name__ == \"__main__\":\n",
    "    nr_tosses = 100\n",
    "    nr_heads = 0\n",
    "    nr_tails = 0\n",
    "    \n",
    "    for i in range(nr_tosses):\n",
    "        if get_toss() == \"T\":\n",
    "            nr_heads += 1\n",
    "        else:\n",
    "            nr_tails += 1\n",
    "            \n",
    "    print(nr_heads)\n",
    "    print(nr_tails)\n",
    "    print(\"% of tails {0}\".format(nr_tails / nr_tosses))\n",
    "    print(\"% of heads {0}\".format(nr_heads / nr_tosses))"
   ]
  },
  {
   "cell_type": "code",
   "execution_count": 41,
   "metadata": {},
   "outputs": [
    {
     "name": "stdout",
     "output_type": "stream",
     "text": [
      "46\n",
      "54\n",
      "% of tails 0.54\n",
      "% of heads 0.46\n"
     ]
    }
   ],
   "source": []
  }
 ],
 "metadata": {
  "kernelspec": {
   "display_name": "Python 3",
   "language": "python",
   "name": "python3"
  },
  "language_info": {
   "codemirror_mode": {
    "name": "ipython",
    "version": 3
   },
   "file_extension": ".py",
   "mimetype": "text/x-python",
   "name": "python",
   "nbconvert_exporter": "python",
   "pygments_lexer": "ipython3",
   "version": "3.6.7"
  }
 },
 "nbformat": 4,
 "nbformat_minor": 2
}
